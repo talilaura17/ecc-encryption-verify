{
 "cells": [
  {
   "cell_type": "code",
   "execution_count": null,
   "id": "6fbb4339-fc89-4ef1-b77d-f019b10d76a9",
   "metadata": {},
   "outputs": [],
   "source": [
    "!pip install py_ecc\n",
    "!pip install web3\n",
    "!pip install ecdsa"
   ]
  },
  {
   "cell_type": "markdown",
   "id": "34d7a7fb-87ae-4bb0-acf8-000c42bf1009",
   "metadata": {},
   "source": [
    "### 生成對稱式鑰匙key (用於加密雲端上的資料)"
   ]
  },
  {
   "cell_type": "code",
   "execution_count": 118,
   "id": "cf581e2d-f993-4411-95b7-7bb35516b06e",
   "metadata": {},
   "outputs": [],
   "source": [
    "from Crypto.Cipher import AES\n",
    "from Crypto.Random import get_random_bytes\n",
    "from Crypto.Util.Padding import pad, unpad\n",
    "\n",
    "def encrypt(data, key):\n",
    "    cipher = AES.new(key, AES.MODE_CBC)\n",
    "    ciphertext = cipher.encrypt(pad(data.encode('utf-8'), AES.block_size))\n",
    "    iv = cipher.iv\n",
    "    return ciphertext, iv\n",
    "\n",
    "def decrypt(ciphertext, key, iv):\n",
    "    cipher = AES.new(key, AES.MODE_CBC, iv)\n",
    "    decrypted_data = unpad(cipher.decrypt(ciphertext), AES.block_size)\n",
    "    return decrypted_data.decode('utf-8')"
   ]
  },
  {
   "cell_type": "code",
   "execution_count": 154,
   "id": "995bd77b-df18-4730-901c-6b9afdcd03a7",
   "metadata": {},
   "outputs": [
    {
     "name": "stdout",
     "output_type": "stream",
     "text": [
      "b\":\\xbav\\xf8\\xc6\\xe2\\xc2\\xb6\\x9fp\\x16a\\xadH\\xff\\x0f\\x07\\x89'\\xd0\\x18\\x02\\\\\\x05\\x05\\xc7\\n\\x9a\\x8e9\\xa8\\xb6\"\n"
     ]
    }
   ],
   "source": [
    "# 生成 key\n",
    "key = get_random_bytes(32)\n",
    "print(key)"
   ]
  },
  {
   "cell_type": "code",
   "execution_count": 155,
   "id": "dda20176-6535-4ab0-8ced-ebe474467443",
   "metadata": {},
   "outputs": [
    {
     "name": "stdout",
     "output_type": "stream",
     "text": [
      "26563599884959042401026358695520452657931959259058836998933996899174803155126\n",
      "b\":\\xbav\\xf8\\xc6\\xe2\\xc2\\xb6\\x9fp\\x16a\\xadH\\xff\\x0f\\x07\\x89'\\xd0\\x18\\x02\\\\\\x05\\x05\\xc7\\n\\x9a\\x8e9\\xa8\\xb6\"\n"
     ]
    }
   ],
   "source": [
    "# 轉成int，方便加密\n",
    "key_as_int = int.from_bytes(key, byteorder='big')\n",
    "print(key_as_int)\n",
    "\n",
    "# 解密可以轉回bytes\n",
    "key_as_bytes = key_as_int.to_bytes(32, byteorder='big')\n",
    "print(key_as_bytes)"
   ]
  },
  {
   "cell_type": "code",
   "execution_count": 183,
   "id": "c85062fd-27dc-432f-928d-8610783e11a5",
   "metadata": {},
   "outputs": [
    {
     "name": "stdout",
     "output_type": "stream",
     "text": [
      "部分1: 265635998849590424010263586955204526579\n",
      "部分2: 31959259058836998933996899174803155126\n"
     ]
    }
   ],
   "source": [
    "# 將key切成兩塊\n",
    "# 為了符合橢圓曲線階數(BN256_ORDER)\n",
    "\n",
    "part1 = key_as_int // (10 ** 38)\n",
    "part2 = key_as_int % (10 ** 38)\n",
    "\n",
    "print(f\"部分1: {part1}\")\n",
    "print(f\"部分2: {part2}\")"
   ]
  },
  {
   "cell_type": "code",
   "execution_count": 187,
   "id": "281a04af-8ed8-4590-92be-9ae133ad15f8",
   "metadata": {},
   "outputs": [
    {
     "name": "stdout",
     "output_type": "stream",
     "text": [
      "拼好的key: 26563599884959042401026358695520452657931959259058836998933996899174803155126\n",
      "拼接成功\n"
     ]
    }
   ],
   "source": [
    "# 測試拼回key\n",
    "m_reconstructed = part1 * (10 ** 38) + part2\n",
    "print(f\"拼好的key: {m_reconstructed}\")\n",
    "\n",
    "assert m_reconstructed == key_as_int, \"拼接失败\"\n",
    "print(\"拼接成功\")"
   ]
  },
  {
   "cell_type": "code",
   "execution_count": 157,
   "id": "721967d0-ec3c-4d50-b7ef-56d0c327abc3",
   "metadata": {},
   "outputs": [
    {
     "name": "stdout",
     "output_type": "stream",
     "text": [
      "key: b\":\\xbav\\xf8\\xc6\\xe2\\xc2\\xb6\\x9fp\\x16a\\xadH\\xff\\x0f\\x07\\x89'\\xd0\\x18\\x02\\\\\\x05\\x05\\xc7\\n\\x9a\\x8e9\\xa8\\xb6\"\n",
      "Original Data: Hello, World!\n",
      "Encrypted Data: b'v\\x90\\xbb=\\xe7\\x9e\\x06\\x08:\\xeeN\\x91~\\xdd*\"'\n",
      "Decrypted Data: Hello, World!\n"
     ]
    }
   ],
   "source": [
    "# 示例用法\n",
    "data_to_encrypt = \"Hello, World!\"\n",
    "\n",
    "key = key_as_bytes\n",
    "\n",
    "# 加密\n",
    "encrypted_data, iv = encrypt(data_to_encrypt, key)\n",
    "\n",
    "# 解密\n",
    "decrypted_data = decrypt(encrypted_data, key, iv)\n",
    "\n",
    "print(\"key:\", key)\n",
    "print(\"Original Data:\", data_to_encrypt)\n",
    "print(\"Encrypted Data:\", encrypted_data)\n",
    "print(\"Decrypted Data:\", decrypted_data)"
   ]
  },
  {
   "cell_type": "markdown",
   "id": "9fded353-7ada-4546-b2f9-0950e7202fdf",
   "metadata": {},
   "source": [
    "### 橢圓曲線加密\n",
    "-  m：秘密值，這是Alice想要隱藏的值。(假設是key)\r",
    "-  \n",
    "M := mG：這是秘密的「指紋」，它是透過將秘密 m 與橢圓曲線上的基點 G 相乘來生成的。這相當於加密的m\n",
    "-  a：Alice的私鑰。\n",
    "-  A：Alice的公開金鑰，即 A = aG。\n",
    "-  B：Bob選擇的隨機值 b 乘以基點 G，即 B = bG。bG。\r\n"
   ]
  },
  {
   "cell_type": "code",
   "execution_count": 168,
   "id": "31b2fbb2-176e-44a3-918d-c8337888c05a",
   "metadata": {},
   "outputs": [
    {
     "name": "stdout",
     "output_type": "stream",
     "text": [
      "驗證通過！\n"
     ]
    }
   ],
   "source": [
    "from py_ecc.bn128 import G1, add, multiply, pairing\n",
    "import os\n",
    "\n",
    "# BN256 曲線的階數\n",
    "BN256_ORDER = 21888242871839275222246405745257275088548364400416034343698204186575808495617\n",
    "\n",
    "b = int.from_bytes(os.urandom(32), byteorder=\"big\") % BN256_ORDER\n",
    "#m = int.from_bytes(os.urandom(32), byteorder=\"big\") % BN256_ORDER\n",
    "m = part1\n",
    "\n",
    "# 1. 生成 B = b * G\n",
    "B = multiply(G1, b)\n",
    "\n",
    "# 2. 生成 M = m * G\n",
    "M = multiply(G1, m)\n",
    "\n",
    "# 3. 計算 C = (m + b) * G\n",
    "c = (m + b) \n",
    "C = multiply(G1, c)\n",
    "\n",
    "# 4. 驗證 C == M + B\n",
    "M_plus_B = add(M, B)\n",
    "\n",
    "# 驗證 C 是否等於 M + B\n",
    "assert C == M_plus_B, \"驗證失敗\"\n",
    "\n",
    "print(\"驗證通過！\")\n"
   ]
  },
  {
   "cell_type": "code",
   "execution_count": 170,
   "id": "802ae53c-f3b6-444f-8717-89dd74187fdb",
   "metadata": {},
   "outputs": [
    {
     "name": "stdout",
     "output_type": "stream",
     "text": [
      "265635998849590424010263586955204526579\n",
      "265635998849590424010263586955204526579\n"
     ]
    }
   ],
   "source": [
    "print(m)\n",
    "print(c-b)"
   ]
  },
  {
   "cell_type": "code",
   "execution_count": 179,
   "id": "97b2f778-6c24-45af-94a9-9aaad6c4d5ec",
   "metadata": {},
   "outputs": [
    {
     "name": "stdout",
     "output_type": "stream",
     "text": [
      "M: (20666695125929780296198703111052145820223868702582299957393803194642541419658, 16005375842050648844540391058229950985329301217403234796204712887607951382373)\n",
      "\n",
      "B: (11328723219800410638856073523928818827967355195184408304817942835290171212358, 1672297719409963029399595138633005656562645695834659977564544497075937046827)\n",
      "\n",
      "C: (2677823768328660457848311185433573256387621456722367634789660201886807936677, 16912942746965186307593632256473202717594242139994285153788898632822872881615)\n"
     ]
    }
   ],
   "source": [
    "#print(M)\n",
    "#print(B)\n",
    "#print(C)\n",
    "\n",
    "M_to_tuple = (int(M[0]), int(M[1]))\n",
    "print(\"M:\", M_to_tuple)\n",
    "print()\n",
    "\n",
    "B_to_tuple = (int(B[0]), int(B[1]))\n",
    "print(\"B:\",B_to_tuple)\n",
    "print()\n",
    "\n",
    "C_to_tuple = (int(C[0]), int(C[1]))\n",
    "print(\"C:\",C_to_tuple)"
   ]
  },
  {
   "cell_type": "code",
   "execution_count": 177,
   "id": "3359e621-9d65-4e22-b6b3-988b6c05382d",
   "metadata": {},
   "outputs": [],
   "source": [
    "# 偷改變值\n",
    "M_to_tuple = (int(M[0])+1, int(M[1]))"
   ]
  },
  {
   "cell_type": "markdown",
   "id": "913ec394-98f4-457a-83da-ed37c3196eed",
   "metadata": {},
   "source": [
    "### 上傳 M，B，C 到智能合約上進行驗證"
   ]
  },
  {
   "cell_type": "code",
   "execution_count": 180,
   "id": "8c27a952-31f2-4d6e-bba9-4498b5fc47e5",
   "metadata": {},
   "outputs": [
    {
     "name": "stdout",
     "output_type": "stream",
     "text": [
      "Verification result: True\n"
     ]
    }
   ],
   "source": [
    "from web3 import Web3\n",
    "import json\n",
    "\n",
    "# 初始化 web3 连接\n",
    "w3 = Web3(Web3.HTTPProvider(\"http://localhost:8545\"))  # 替换为你的以太坊节点地址\n",
    "\n",
    "# 合约地址和 ABI\n",
    "contract_address = '0xED3AdF5bea00D567c3b104f9537B4D80F50f74ec'\n",
    "\n",
    "# 加載 ABI 和 Bytecode\n",
    "with open(\"VerifyStepM3.abi\") as f:\n",
    "    contract_abi = json.load(f)\n",
    "\n",
    "\n",
    "# 获取合约实例\n",
    "contract = w3.eth.contract(\n",
    "    address=contract_address, \n",
    "    abi=contract_abi\n",
    ")\n",
    "\n",
    "result = contract.functions.verify(M_to_tuple, B_to_tuple, C_to_tuple).call()\n",
    "\n",
    "print(f\"Verification result: {result}\")\n"
   ]
  },
  {
   "cell_type": "code",
   "execution_count": 181,
   "id": "b89a2e92-ef5d-4f80-aa74-1fd441fc33d2",
   "metadata": {},
   "outputs": [
    {
     "name": "stdout",
     "output_type": "stream",
     "text": [
      "Transaction successful!\n",
      "Gas used: 27156\n"
     ]
    }
   ],
   "source": [
    "# 發送交易\n",
    "txn_hash = contract.functions.verify(M_to_tuple, B_to_tuple, C_to_tuple).transact({\n",
    "    'from': w3.eth.accounts[0],\n",
    "    'gas': 2000000  \n",
    "})\n",
    "\n",
    "# 等待交易完成\n",
    "txn_receipt = w3.eth.wait_for_transaction_receipt(txn_hash)\n",
    "\n",
    "if txn_receipt['status'] == 1:\n",
    "    print(\"Transaction successful!\")\n",
    "else:\n",
    "    print(\"Transaction failed.\")\n",
    "\n",
    "# 獲取gas消耗\n",
    "gas_used = txn_receipt['gasUsed']\n",
    "print(f\"Gas used: {gas_used}\")"
   ]
  },
  {
   "cell_type": "code",
   "execution_count": null,
   "id": "db99afe1-c270-446f-b504-bc4816bcda19",
   "metadata": {},
   "outputs": [],
   "source": []
  },
  {
   "cell_type": "markdown",
   "id": "db3125b2-c14a-47e8-b25e-a338352a7450",
   "metadata": {},
   "source": [
    "### 測試區"
   ]
  },
  {
   "cell_type": "code",
   "execution_count": 22,
   "id": "a297d415-655b-4a1f-8291-df42158205ac",
   "metadata": {},
   "outputs": [
    {
     "name": "stdout",
     "output_type": "stream",
     "text": [
      "公開比對用值 (M): ('0x96532721f59d5bd5fb09f78d015d9de71827b54086e8ce6bc165041231e8946e', '0x69acd3c4a3d1b1d3bd6e8a30492800bd580bd164ce270a26a6a49968b67bc019')\n",
      "Bob 的公開點 (B): ('0x8ec671e9ca4d4d76b6a268e206abbf445d058628d0116dcda2330b3f5c195e06', '0x569990b744caed288d0dcb78bebb89932e9fd770b0d93e38ef7aa6d72ca9ceea')\n",
      "混合結果點 (C): ('0xff40ef2ad8fb4d9be016ae3afce9a60c8a82d4c7a3dd08d2f596e74177ce87d0', '0x43c154332da0569a4f4fd1f17c6762ce1a11df1eeddef3509020b265b439c05c')\n"
     ]
    }
   ],
   "source": [
    "from ecdsa import SigningKey, SECP256k1\n",
    "from ecdsa.ellipticcurve import Point\n",
    "\n",
    "# 生成 SECP256k1 橢圓曲線的基點\n",
    "curve = SECP256k1.curve\n",
    "G = SECP256k1.generator\n",
    "\n",
    "# Alice 的秘密值 m\n",
    "m = SigningKey.generate(curve=SECP256k1).privkey.secret_multiplier\n",
    "\n",
    "# Bob 的隨機數 b\n",
    "b = SigningKey.generate(curve=SECP256k1).privkey.secret_multiplier\n",
    "\n",
    "# Alice 計算 M = mG (這是用來公開驗證的值)\n",
    "M = m * G\n",
    "\n",
    "# Bob 計算 B = bG\n",
    "B = b * G\n",
    "\n",
    "# Alice 和 Bob 計算混合值 c = m + b\n",
    "c = (m + b) % SECP256k1.order\n",
    "\n",
    "# 計算 C = (m + b)G\n",
    "C = c * G\n",
    "\n",
    "def point_to_tuple(point: Point):\n",
    "    return (hex(point.x()), hex(point.y()))\n",
    "\n",
    "# 輸出 M、B 和 C 點的座標，這些將傳遞到 Solidity 進行驗證\n",
    "print(\"公開比對用值 (M):\", point_to_tuple(M))\n",
    "print(\"Bob 的公開點 (B):\", point_to_tuple(B))\n",
    "print(\"混合結果點 (C):\", point_to_tuple(C))\n"
   ]
  },
  {
   "cell_type": "code",
   "execution_count": 17,
   "id": "f07844c0-3945-46e2-811a-4c8ca9135213",
   "metadata": {},
   "outputs": [
    {
     "name": "stdout",
     "output_type": "stream",
     "text": [
      "原始 m: 123456789\n",
      "原始 b: 987654321\n",
      "加密后的椭圆曲线点 c: (103213092766970105549724903803005786552161881386844729536135103219576752988032, 106554927841606769585597959475808245486908341069295995421064383444758127827491)\n",
      "解密后的椭圆曲线点 m: (4051293998585674784991639592782214972820158391371785981004352359465450369227, 88166831356626186178414913298033275054086243781277878360288998796587140930350)\n",
      "解密成功，m 的点与预期相符！\n"
     ]
    }
   ],
   "source": [
    "from ecdsa import SigningKey, SECP256k1\n",
    "from ecdsa.ellipticcurve import Point\n",
    "\n",
    "# 生成 SECP256k1 椭圆曲线的基点 G\n",
    "curve = SECP256k1.curve\n",
    "G = SECP256k1.generator\n",
    "\n",
    "# 定义加密函数: c = m * G + b * G\n",
    "def ecc_encrypt(m, b):\n",
    "    # m 和 b 是整数，表示为椭圆曲线上的点\n",
    "    m_point = m * G  # m 对应的椭圆曲线点\n",
    "    b_point = b * G  # b 对应的椭圆曲线点\n",
    "    \n",
    "    # 加密: c = m_point + b_point\n",
    "    c_point = m_point + b_point\n",
    "    \n",
    "    return c_point\n",
    "\n",
    "# 定义解密函数: m = c - b * G (通过加上负的b * G实现减法)\n",
    "def ecc_decrypt(c_point, b):\n",
    "    # 计算 -b * G\n",
    "    neg_b_point = -b * G\n",
    "    # 恢复 m 的椭圆曲线点: m_point = c_point + (-b_point)\n",
    "    m_point = c_point + neg_b_point\n",
    "    \n",
    "    return m_point\n",
    "    \n",
    "# 测试代码\n",
    "if __name__ == \"__main__\":\n",
    "    # 原始数据 m 和 b\n",
    "    m = 123456789  # m 是一个整数，模拟为标量\n",
    "    b = 987654321  # b 是一个整数，模拟为标量\n",
    "\n",
    "    print(f\"原始 m: {m}\")\n",
    "    print(f\"原始 b: {b}\")\n",
    "\n",
    "    # 加密过程\n",
    "    c_point = ecc_encrypt(m, b)\n",
    "    print(f\"加密后的椭圆曲线点 c: ({c_point.x()}, {c_point.y()})\")\n",
    "\n",
    "    # 解密过程\n",
    "    decrypted_m_point = ecc_decrypt(c_point, b)\n",
    "    print(f\"解密后的椭圆曲线点 m: ({decrypted_m_point.x()}, {decrypted_m_point.y()})\")\n",
    "\n",
    "    # 验证解密结果是否正确\n",
    "    # m_point 应该等于 m * G\n",
    "    expected_m_point = m * G\n",
    "    assert decrypted_m_point == expected_m_point, \"解密失败\"\n",
    "    print(\"解密成功，m 的点与预期相符！\")\n"
   ]
  },
  {
   "cell_type": "code",
   "execution_count": 20,
   "id": "62e3d735-e086-4baa-80a4-e8e5813d8234",
   "metadata": {},
   "outputs": [
    {
     "data": {
      "text/plain": [
       "<ecdsa.ellipticcurve.PointJacobi at 0x1f168c94410>"
      ]
     },
     "execution_count": 20,
     "metadata": {},
     "output_type": "execute_result"
    }
   ],
   "source": [
    "expected_m_point"
   ]
  },
  {
   "cell_type": "code",
   "execution_count": 21,
   "id": "3bd268bf-dab2-4660-a7a7-103baabf2a25",
   "metadata": {},
   "outputs": [
    {
     "data": {
      "text/plain": [
       "<ecdsa.ellipticcurve.PointJacobi at 0x1f168c960d0>"
      ]
     },
     "execution_count": 21,
     "metadata": {},
     "output_type": "execute_result"
    }
   ],
   "source": [
    "decrypted_m_point"
   ]
  },
  {
   "cell_type": "code",
   "execution_count": 115,
   "id": "5a01631f-6a55-497f-a7ae-c63956c381da",
   "metadata": {},
   "outputs": [
    {
     "name": "stdout",
     "output_type": "stream",
     "text": [
      "The number has 254 bits.\n"
     ]
    }
   ],
   "source": [
    "def l(number):\n",
    "    bit_length = number.bit_length()\n",
    "    print(f\"The number has {bit_length} bits.\")\n",
    "l(int(M[0]))"
   ]
  },
  {
   "cell_type": "code",
   "execution_count": null,
   "id": "c7e4f740-38f1-4095-9197-2614deae004a",
   "metadata": {},
   "outputs": [],
   "source": []
  }
 ],
 "metadata": {
  "kernelspec": {
   "display_name": "Python 3 (ipykernel)",
   "language": "python",
   "name": "python3"
  },
  "language_info": {
   "codemirror_mode": {
    "name": "ipython",
    "version": 3
   },
   "file_extension": ".py",
   "mimetype": "text/x-python",
   "name": "python",
   "nbconvert_exporter": "python",
   "pygments_lexer": "ipython3",
   "version": "3.11.7"
  }
 },
 "nbformat": 4,
 "nbformat_minor": 5
}
