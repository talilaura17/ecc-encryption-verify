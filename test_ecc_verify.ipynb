{
 "cells": [
  {
   "cell_type": "code",
   "execution_count": 1,
   "id": "6fbb4339-fc89-4ef1-b77d-f019b10d76a9",
   "metadata": {},
   "outputs": [
    {
     "name": "stdout",
     "output_type": "stream",
     "text": [
      "Requirement already satisfied: py_ecc in c:\\users\\kiki6\\anaconda3\\lib\\site-packages (7.0.1)\n",
      "Requirement already satisfied: eth-typing>=3.0.0 in c:\\users\\kiki6\\anaconda3\\lib\\site-packages (from py_ecc) (4.2.3)\n",
      "Requirement already satisfied: eth-utils>=2.0.0 in c:\\users\\kiki6\\anaconda3\\lib\\site-packages (from py_ecc) (4.1.1)\n",
      "Requirement already satisfied: cached-property>=1.5.1 in c:\\users\\kiki6\\anaconda3\\lib\\site-packages (from py_ecc) (1.5.2)\n",
      "Requirement already satisfied: eth-hash>=0.3.1 in c:\\users\\kiki6\\anaconda3\\lib\\site-packages (from eth-utils>=2.0.0->py_ecc) (0.7.0)\n",
      "Requirement already satisfied: cytoolz>=0.10.1 in c:\\users\\kiki6\\anaconda3\\lib\\site-packages (from eth-utils>=2.0.0->py_ecc) (0.12.2)\n",
      "Requirement already satisfied: toolz>=0.8.0 in c:\\users\\kiki6\\anaconda3\\lib\\site-packages (from cytoolz>=0.10.1->eth-utils>=2.0.0->py_ecc) (0.12.0)\n",
      "Requirement already satisfied: web3 in c:\\users\\kiki6\\anaconda3\\lib\\site-packages (6.19.0)\n",
      "Requirement already satisfied: aiohttp>=3.7.4.post0 in c:\\users\\kiki6\\anaconda3\\lib\\site-packages (from web3) (3.9.3)\n",
      "Requirement already satisfied: eth-abi>=4.0.0 in c:\\users\\kiki6\\anaconda3\\lib\\site-packages (from web3) (5.1.0)\n",
      "Requirement already satisfied: eth-account<0.13,>=0.8.0 in c:\\users\\kiki6\\anaconda3\\lib\\site-packages (from web3) (0.11.2)\n",
      "Requirement already satisfied: eth-hash>=0.5.1 in c:\\users\\kiki6\\anaconda3\\lib\\site-packages (from eth-hash[pycryptodome]>=0.5.1->web3) (0.7.0)\n",
      "Requirement already satisfied: eth-typing!=4.2.0,>=3.0.0 in c:\\users\\kiki6\\anaconda3\\lib\\site-packages (from web3) (4.2.3)\n",
      "Requirement already satisfied: eth-utils>=2.1.0 in c:\\users\\kiki6\\anaconda3\\lib\\site-packages (from web3) (4.1.1)\n",
      "Requirement already satisfied: hexbytes<0.4.0,>=0.1.0 in c:\\users\\kiki6\\anaconda3\\lib\\site-packages (from web3) (0.3.1)\n",
      "Requirement already satisfied: jsonschema>=4.0.0 in c:\\users\\kiki6\\anaconda3\\lib\\site-packages (from web3) (4.19.2)\n",
      "Requirement already satisfied: lru-dict<1.3.0,>=1.1.6 in c:\\users\\kiki6\\anaconda3\\lib\\site-packages (from web3) (1.2.0)\n",
      "Requirement already satisfied: protobuf>=4.21.6 in c:\\users\\kiki6\\anaconda3\\lib\\site-packages (from web3) (5.27.0)\n",
      "Requirement already satisfied: requests>=2.16.0 in c:\\users\\kiki6\\anaconda3\\lib\\site-packages (from web3) (2.31.0)\n",
      "Requirement already satisfied: typing-extensions>=4.0.1 in c:\\users\\kiki6\\anaconda3\\lib\\site-packages (from web3) (4.9.0)\n",
      "Requirement already satisfied: websockets>=10.0.0 in c:\\users\\kiki6\\anaconda3\\lib\\site-packages (from web3) (12.0)\n",
      "Requirement already satisfied: pyunormalize>=15.0.0 in c:\\users\\kiki6\\anaconda3\\lib\\site-packages (from web3) (15.1.0)\n",
      "Requirement already satisfied: pywin32>=223 in c:\\users\\kiki6\\anaconda3\\lib\\site-packages (from web3) (305.1)\n",
      "Requirement already satisfied: aiosignal>=1.1.2 in c:\\users\\kiki6\\anaconda3\\lib\\site-packages (from aiohttp>=3.7.4.post0->web3) (1.2.0)\n",
      "Requirement already satisfied: attrs>=17.3.0 in c:\\users\\kiki6\\anaconda3\\lib\\site-packages (from aiohttp>=3.7.4.post0->web3) (23.1.0)\n",
      "Requirement already satisfied: frozenlist>=1.1.1 in c:\\users\\kiki6\\anaconda3\\lib\\site-packages (from aiohttp>=3.7.4.post0->web3) (1.4.0)\n",
      "Requirement already satisfied: multidict<7.0,>=4.5 in c:\\users\\kiki6\\anaconda3\\lib\\site-packages (from aiohttp>=3.7.4.post0->web3) (6.0.4)\n",
      "Requirement already satisfied: yarl<2.0,>=1.0 in c:\\users\\kiki6\\anaconda3\\lib\\site-packages (from aiohttp>=3.7.4.post0->web3) (1.9.3)\n",
      "Requirement already satisfied: parsimonious<0.11.0,>=0.10.0 in c:\\users\\kiki6\\anaconda3\\lib\\site-packages (from eth-abi>=4.0.0->web3) (0.10.0)\n",
      "Requirement already satisfied: bitarray>=2.4.0 in c:\\users\\kiki6\\anaconda3\\lib\\site-packages (from eth-account<0.13,>=0.8.0->web3) (2.9.2)\n",
      "Requirement already satisfied: eth-keyfile>=0.6.0 in c:\\users\\kiki6\\anaconda3\\lib\\site-packages (from eth-account<0.13,>=0.8.0->web3) (0.8.1)\n",
      "Requirement already satisfied: eth-keys>=0.4.0 in c:\\users\\kiki6\\anaconda3\\lib\\site-packages (from eth-account<0.13,>=0.8.0->web3) (0.5.1)\n",
      "Requirement already satisfied: eth-rlp>=0.3.0 in c:\\users\\kiki6\\anaconda3\\lib\\site-packages (from eth-account<0.13,>=0.8.0->web3) (1.0.1)\n",
      "Requirement already satisfied: rlp>=1.0.0 in c:\\users\\kiki6\\anaconda3\\lib\\site-packages (from eth-account<0.13,>=0.8.0->web3) (4.0.1)\n",
      "Requirement already satisfied: ckzg>=0.4.3 in c:\\users\\kiki6\\anaconda3\\lib\\site-packages (from eth-account<0.13,>=0.8.0->web3) (1.0.2)\n",
      "Requirement already satisfied: pycryptodome<4,>=3.6.6 in c:\\users\\kiki6\\anaconda3\\lib\\site-packages (from eth-hash[pycryptodome]>=0.5.1->web3) (3.20.0)\n",
      "Requirement already satisfied: cytoolz>=0.10.1 in c:\\users\\kiki6\\anaconda3\\lib\\site-packages (from eth-utils>=2.1.0->web3) (0.12.2)\n",
      "Requirement already satisfied: jsonschema-specifications>=2023.03.6 in c:\\users\\kiki6\\anaconda3\\lib\\site-packages (from jsonschema>=4.0.0->web3) (2023.7.1)\n",
      "Requirement already satisfied: referencing>=0.28.4 in c:\\users\\kiki6\\anaconda3\\lib\\site-packages (from jsonschema>=4.0.0->web3) (0.30.2)\n",
      "Requirement already satisfied: rpds-py>=0.7.1 in c:\\users\\kiki6\\anaconda3\\lib\\site-packages (from jsonschema>=4.0.0->web3) (0.10.6)\n",
      "Requirement already satisfied: charset-normalizer<4,>=2 in c:\\users\\kiki6\\anaconda3\\lib\\site-packages (from requests>=2.16.0->web3) (2.0.4)\n",
      "Requirement already satisfied: idna<4,>=2.5 in c:\\users\\kiki6\\anaconda3\\lib\\site-packages (from requests>=2.16.0->web3) (3.4)\n",
      "Requirement already satisfied: urllib3<3,>=1.21.1 in c:\\users\\kiki6\\anaconda3\\lib\\site-packages (from requests>=2.16.0->web3) (2.0.7)\n",
      "Requirement already satisfied: certifi>=2017.4.17 in c:\\users\\kiki6\\anaconda3\\lib\\site-packages (from requests>=2.16.0->web3) (2024.2.2)\n",
      "Requirement already satisfied: toolz>=0.8.0 in c:\\users\\kiki6\\anaconda3\\lib\\site-packages (from cytoolz>=0.10.1->eth-utils>=2.1.0->web3) (0.12.0)\n",
      "Requirement already satisfied: regex>=2022.3.15 in c:\\users\\kiki6\\anaconda3\\lib\\site-packages (from parsimonious<0.11.0,>=0.10.0->eth-abi>=4.0.0->web3) (2023.10.3)\n",
      "Requirement already satisfied: ecdsa in c:\\users\\kiki6\\anaconda3\\lib\\site-packages (0.19.0)\n",
      "Requirement already satisfied: six>=1.9.0 in c:\\users\\kiki6\\anaconda3\\lib\\site-packages (from ecdsa) (1.16.0)\n"
     ]
    }
   ],
   "source": [
    "!pip install py_ecc\n",
    "!pip install web3\n",
    "!pip install ecdsa"
   ]
  },
  {
   "cell_type": "markdown",
   "id": "34d7a7fb-87ae-4bb0-acf8-000c42bf1009",
   "metadata": {},
   "source": [
    "### 生成對稱式鑰匙key (用於加密雲端上的資料)"
   ]
  },
  {
   "cell_type": "code",
   "execution_count": 1,
   "id": "cf581e2d-f993-4411-95b7-7bb35516b06e",
   "metadata": {},
   "outputs": [],
   "source": [
    "from Crypto.Cipher import AES\n",
    "from Crypto.Random import get_random_bytes\n",
    "from Crypto.Util.Padding import pad, unpad\n",
    "\n",
    "def encrypt(data, key):\n",
    "    cipher = AES.new(key, AES.MODE_CBC)\n",
    "    ciphertext = cipher.encrypt(pad(data.encode('utf-8'), AES.block_size))\n",
    "    iv = cipher.iv\n",
    "    return ciphertext, iv\n",
    "\n",
    "def decrypt(ciphertext, key, iv):\n",
    "    cipher = AES.new(key, AES.MODE_CBC, iv)\n",
    "    decrypted_data = unpad(cipher.decrypt(ciphertext), AES.block_size)\n",
    "    return decrypted_data.decode('utf-8')"
   ]
  },
  {
   "cell_type": "code",
   "execution_count": 2,
   "id": "995bd77b-df18-4730-901c-6b9afdcd03a7",
   "metadata": {},
   "outputs": [
    {
     "name": "stdout",
     "output_type": "stream",
     "text": [
      "b's~\\n\\x178\"\\x996\\xbb\\xb3\\x06\\x1c3/\\xd4=\\xedO\\xdf\\xf4\\x01\\xcdLd\\xdb\\x93\\x93\\xcb\\x89@\\x08L'\n"
     ]
    }
   ],
   "source": [
    "# 生成 key\n",
    "key = get_random_bytes(32)\n",
    "print(key)"
   ]
  },
  {
   "cell_type": "code",
   "execution_count": 3,
   "id": "dda20176-6535-4ab0-8ced-ebe474467443",
   "metadata": {},
   "outputs": [
    {
     "name": "stdout",
     "output_type": "stream",
     "text": [
      "52238669960691673665825435312914707100888310462309790160327758673430785820748\n",
      "b's~\\n\\x178\"\\x996\\xbb\\xb3\\x06\\x1c3/\\xd4=\\xedO\\xdf\\xf4\\x01\\xcdLd\\xdb\\x93\\x93\\xcb\\x89@\\x08L'\n"
     ]
    }
   ],
   "source": [
    "# 轉成int，方便加密\n",
    "key_as_int = int.from_bytes(key, byteorder='big')\n",
    "print(key_as_int)\n",
    "\n",
    "# 解密可以轉回bytes\n",
    "key_as_bytes = key_as_int.to_bytes(32, byteorder='big')\n",
    "print(key_as_bytes)"
   ]
  },
  {
   "cell_type": "code",
   "execution_count": 4,
   "id": "c85062fd-27dc-432f-928d-8610783e11a5",
   "metadata": {},
   "outputs": [
    {
     "name": "stdout",
     "output_type": "stream",
     "text": [
      "部分1: 522386699606916736658254353129147071008\n",
      "部分2: 88310462309790160327758673430785820748\n"
     ]
    }
   ],
   "source": [
    "# 將key切成兩塊\n",
    "# 為了符合橢圓曲線階數(BN256_ORDER)\n",
    "\n",
    "part1 = key_as_int // (10 ** 38)\n",
    "part2 = key_as_int % (10 ** 38)\n",
    "\n",
    "print(f\"部分1: {part1}\")\n",
    "print(f\"部分2: {part2}\")"
   ]
  },
  {
   "cell_type": "code",
   "execution_count": 5,
   "id": "281a04af-8ed8-4590-92be-9ae133ad15f8",
   "metadata": {},
   "outputs": [
    {
     "name": "stdout",
     "output_type": "stream",
     "text": [
      "拼好的key: 52238669960691673665825435312914707100888310462309790160327758673430785820748\n",
      "拼接成功\n"
     ]
    }
   ],
   "source": [
    "# 測試拼回key\n",
    "m_reconstructed = part1 * (10 ** 38) + part2\n",
    "print(f\"拼好的key: {m_reconstructed}\")\n",
    "\n",
    "assert m_reconstructed == key_as_int, \"拼接失败\"\n",
    "print(\"拼接成功\")"
   ]
  },
  {
   "cell_type": "code",
   "execution_count": 6,
   "id": "721967d0-ec3c-4d50-b7ef-56d0c327abc3",
   "metadata": {},
   "outputs": [
    {
     "name": "stdout",
     "output_type": "stream",
     "text": [
      "key: b's~\\n\\x178\"\\x996\\xbb\\xb3\\x06\\x1c3/\\xd4=\\xedO\\xdf\\xf4\\x01\\xcdLd\\xdb\\x93\\x93\\xcb\\x89@\\x08L'\n",
      "Original Data: Hello, World!\n",
      "Encrypted Data: b'S\\x8aK\\x12\\\\$\\xbe\\x10\\xa5\\xe1\\xcc\\xef\\xb3=Gu'\n",
      "Decrypted Data: Hello, World!\n"
     ]
    }
   ],
   "source": [
    "# 示例用法\n",
    "data_to_encrypt = \"Hello, World!\"\n",
    "\n",
    "key = key_as_bytes\n",
    "\n",
    "# 加密\n",
    "encrypted_data, iv = encrypt(data_to_encrypt, key)\n",
    "\n",
    "# 解密\n",
    "decrypted_data = decrypt(encrypted_data, key, iv)\n",
    "\n",
    "print(\"key:\", key)\n",
    "print(\"Original Data:\", data_to_encrypt)\n",
    "print(\"Encrypted Data:\", encrypted_data)\n",
    "print(\"Decrypted Data:\", decrypted_data)"
   ]
  },
  {
   "cell_type": "markdown",
   "id": "9fded353-7ada-4546-b2f9-0950e7202fdf",
   "metadata": {},
   "source": [
    "### 橢圓曲線加密\n",
    "-  m：秘密值，這是Alice想要隱藏的值。(假設是key)\r",
    "-  \n",
    "M := mG：這是秘密的「指紋」，它是透過將秘密 m 與橢圓曲線上的基點 G 相乘來生成的。這相當於加密的m\n",
    "-  a：Alice的私鑰。\n",
    "-  A：Alice的公開金鑰，即 A = aG。\n",
    "-  B：Bob選擇的隨機值 b 乘以基點 G，即 B = bG。bG。\r\n"
   ]
  },
  {
   "cell_type": "code",
   "execution_count": 8,
   "id": "31b2fbb2-176e-44a3-918d-c8337888c05a",
   "metadata": {},
   "outputs": [],
   "source": [
    "from py_ecc.bn128 import G1, add, multiply, pairing\n",
    "import os\n",
    "\n",
    "# BN256 曲線的階數\n",
    "BN256_ORDER = 21888242871839275222246405745257275088548364400416034343698204186575808495617\n",
    "    \n",
    "b = int.from_bytes(os.urandom(32), byteorder=\"big\") % BN256_ORDER\n",
    "#m = int.from_bytes(os.urandom(32), byteorder=\"big\") % BN256_ORDER\n",
    "#m = part1\n",
    "\n",
    "# 1. 生成 B = b * G\n",
    "B = multiply(G1, b)\n",
    "\n",
    "# 2. 生成 M = m * G\n",
    "M1 = multiply(G1, part1)\n",
    "M2 = multiply(G1, part2)\n",
    "\n",
    "# 3. 計算 c = (m + b)\n",
    "c1 = (part1 + b) \n",
    "c2 = (part2 + b)"
   ]
  },
  {
   "cell_type": "code",
   "execution_count": null,
   "id": "84ecd39c-7e35-42da-8b79-39deb9edaf12",
   "metadata": {},
   "outputs": [],
   "source": [
    "\n"
   ]
  },
  {
   "cell_type": "code",
   "execution_count": 9,
   "id": "327c42ba-fc9b-4226-bdcd-a3aeb1fb12aa",
   "metadata": {},
   "outputs": [
    {
     "name": "stdout",
     "output_type": "stream",
     "text": [
      "驗證通過！\n"
     ]
    }
   ],
   "source": [
    "# 驗證 C = c*G 是否等於 M + B\n",
    "C1 = multiply(G1, c1)\n",
    "\n",
    "M_plus_B = add(M1, B)\n",
    "assert C1 == M_plus_B, \"驗證失敗\"\n",
    "print(\"驗證通過！\")"
   ]
  },
  {
   "cell_type": "code",
   "execution_count": 13,
   "id": "802ae53c-f3b6-444f-8717-89dd74187fdb",
   "metadata": {},
   "outputs": [
    {
     "name": "stdout",
     "output_type": "stream",
     "text": [
      "66104605630294247364083747132565623191223255450467998860141861021580600638715\n",
      "661046056302942473640837471325656231912\n",
      "23255450467998860141861021580600638715\n"
     ]
    }
   ],
   "source": [
    "print(key_as_int)\n",
    "print(c1-b)\n",
    "print(c2-b)"
   ]
  },
  {
   "cell_type": "code",
   "execution_count": 52,
   "id": "97b2f778-6c24-45af-94a9-9aaad6c4d5ec",
   "metadata": {},
   "outputs": [
    {
     "name": "stdout",
     "output_type": "stream",
     "text": [
      "M1: (18479165454232861116319427502477770473672567350588763535693451224415387532385, 6404929343959435307309967611570020832608603063766868664163498276419700687739)\n",
      "\n",
      "M2: (867737788080039067470717243321464069161115999208033877480298464187572825888, 8054430195105493732222839913139293945739730365195718698070643473826465280299)\n",
      "\n",
      "B: (5378922130471260529185872467495839666835425194740989935753900070491847019445, 5273430464091934285569218017182043859047827619487480750699855161722102225912)\n",
      "\n",
      "c1: 5447109968213176062286855625893016543261004463439169242128025057710130810166\n",
      "c2: 5447109968213176062286855625893016543206849677472654571817213524835386810708\n"
     ]
    }
   ],
   "source": [
    "# M, B, c\n",
    "M1_to_tuple = (int(M1[0]), int(M1[1]))\n",
    "print(\"M1:\", M1_to_tuple)\n",
    "print()\n",
    "\n",
    "M2_to_tuple = (int(M2[0]), int(M2[1]))\n",
    "print(\"M2:\", M2_to_tuple)\n",
    "print()\n",
    "\n",
    "B_to_tuple = (int(B[0]), int(B[1]))\n",
    "print(\"B:\",B_to_tuple)\n",
    "print()\n",
    "\n",
    "#C_to_tuple = (int(C1[0]), int(C1[1]))\n",
    "#print(\"C:\",C_to_tuple)\n",
    "\n",
    "print(\"c1:\", c1)\n",
    "print(\"c2:\", c2)"
   ]
  },
  {
   "cell_type": "code",
   "execution_count": 177,
   "id": "3359e621-9d65-4e22-b6b3-988b6c05382d",
   "metadata": {},
   "outputs": [],
   "source": [
    "# 偷改變值\n",
    "M_to_tuple = (int(M[0])+1, int(M[1]))"
   ]
  },
  {
   "cell_type": "markdown",
   "id": "913ec394-98f4-457a-83da-ed37c3196eed",
   "metadata": {},
   "source": [
    "### 上傳 M，B，C 到智能合約上進行驗證"
   ]
  },
  {
   "cell_type": "code",
   "execution_count": 53,
   "id": "8c27a952-31f2-4d6e-bba9-4498b5fc47e5",
   "metadata": {},
   "outputs": [
    {
     "name": "stdout",
     "output_type": "stream",
     "text": [
      "Verification result: True\n"
     ]
    }
   ],
   "source": [
    "from web3 import Web3\n",
    "import json\n",
    "\n",
    "# 初始化 web3 连接\n",
    "w3 = Web3(Web3.HTTPProvider(\"http://localhost:8545\"))  # 替换为你的以太坊节点地址\n",
    "\n",
    "# 合约地址和 ABI\n",
    "contract_address = '0x6A24bdBC27dcC2269EAa16B6bF99AdBE0DB7f3bE'\n",
    "\n",
    "# 加載 ABI 和 Bytecode\n",
    "with open(\"VerifyStepM3.abi\") as f:\n",
    "    contract_abi = json.load(f)\n",
    "\n",
    "\n",
    "# 获取合约实例\n",
    "contract = w3.eth.contract(\n",
    "    address=contract_address, \n",
    "    abi=contract_abi\n",
    ")\n",
    "\n",
    "#result = contract.functions.verify1(M_to_tuple, B_to_tuple, C_to_tuple).call()\n",
    "#result = contract.functions.verify2(M_to_tuple, B_to_tuple, c1).call()\n",
    "result = contract.functions.verify3(B_to_tuple, M1_to_tuple, c1, M2_to_tuple, c2).call()\n",
    "\n",
    "print(f\"Verification result: {result}\")\n"
   ]
  },
  {
   "cell_type": "code",
   "execution_count": 55,
   "id": "b89a2e92-ef5d-4f80-aa74-1fd441fc33d2",
   "metadata": {},
   "outputs": [
    {
     "name": "stdout",
     "output_type": "stream",
     "text": [
      "Transaction successful!\n",
      "Gas used: 33768\n"
     ]
    }
   ],
   "source": [
    "# verify2\n",
    "# 發送交易\n",
    "txn_hash = contract.functions.verify2(M1_to_tuple, B_to_tuple, c1).transact({\n",
    "    'from': w3.eth.accounts[0],\n",
    "    'gas': 2000000  \n",
    "})\n",
    "\n",
    "# 等待交易完成\n",
    "txn_receipt = w3.eth.wait_for_transaction_receipt(txn_hash)\n",
    "\n",
    "if txn_receipt['status'] == 1:\n",
    "    print(\"Transaction successful!\")\n",
    "else:\n",
    "    print(\"Transaction failed.\")\n",
    "\n",
    "# 獲取gas消耗\n",
    "gas_used = txn_receipt['gasUsed']\n",
    "print(f\"Gas used: {gas_used}\")"
   ]
  },
  {
   "cell_type": "code",
   "execution_count": 54,
   "id": "df75bc50-89e3-4fc4-a27a-76b995a7c3ca",
   "metadata": {},
   "outputs": [
    {
     "name": "stdout",
     "output_type": "stream",
     "text": [
      "Transaction successful!\n",
      "Gas used: 44326\n"
     ]
    }
   ],
   "source": [
    "# verify3\n",
    "# 發送交易\n",
    "txn_hash = contract.functions.verify3(B_to_tuple, M1_to_tuple, c1, M2_to_tuple, c2).transact({\n",
    "    'from': w3.eth.accounts[0],\n",
    "    'gas': 2000000  \n",
    "})\n",
    "\n",
    "# 等待交易完成\n",
    "txn_receipt = w3.eth.wait_for_transaction_receipt(txn_hash)\n",
    "\n",
    "if txn_receipt['status'] == 1:\n",
    "    print(\"Transaction successful!\")\n",
    "else:\n",
    "    print(\"Transaction failed.\")\n",
    "\n",
    "# 獲取gas消耗\n",
    "gas_used = txn_receipt['gasUsed']\n",
    "print(f\"Gas used: {gas_used}\")"
   ]
  },
  {
   "cell_type": "code",
   "execution_count": null,
   "id": "db99afe1-c270-446f-b504-bc4816bcda19",
   "metadata": {},
   "outputs": [],
   "source": []
  },
  {
   "cell_type": "markdown",
   "id": "db3125b2-c14a-47e8-b25e-a338352a7450",
   "metadata": {},
   "source": [
    "### 測試區"
   ]
  },
  {
   "cell_type": "code",
   "execution_count": 22,
   "id": "a297d415-655b-4a1f-8291-df42158205ac",
   "metadata": {},
   "outputs": [
    {
     "name": "stdout",
     "output_type": "stream",
     "text": [
      "公開比對用值 (M): ('0x96532721f59d5bd5fb09f78d015d9de71827b54086e8ce6bc165041231e8946e', '0x69acd3c4a3d1b1d3bd6e8a30492800bd580bd164ce270a26a6a49968b67bc019')\n",
      "Bob 的公開點 (B): ('0x8ec671e9ca4d4d76b6a268e206abbf445d058628d0116dcda2330b3f5c195e06', '0x569990b744caed288d0dcb78bebb89932e9fd770b0d93e38ef7aa6d72ca9ceea')\n",
      "混合結果點 (C): ('0xff40ef2ad8fb4d9be016ae3afce9a60c8a82d4c7a3dd08d2f596e74177ce87d0', '0x43c154332da0569a4f4fd1f17c6762ce1a11df1eeddef3509020b265b439c05c')\n"
     ]
    }
   ],
   "source": [
    "from ecdsa import SigningKey, SECP256k1\n",
    "from ecdsa.ellipticcurve import Point\n",
    "\n",
    "# 生成 SECP256k1 橢圓曲線的基點\n",
    "curve = SECP256k1.curve\n",
    "G = SECP256k1.generator\n",
    "\n",
    "# Alice 的秘密值 m\n",
    "m = SigningKey.generate(curve=SECP256k1).privkey.secret_multiplier\n",
    "\n",
    "# Bob 的隨機數 b\n",
    "b = SigningKey.generate(curve=SECP256k1).privkey.secret_multiplier\n",
    "\n",
    "# Alice 計算 M = mG (這是用來公開驗證的值)\n",
    "M = m * G\n",
    "\n",
    "# Bob 計算 B = bG\n",
    "B = b * G\n",
    "\n",
    "# Alice 和 Bob 計算混合值 c = m + b\n",
    "c = (m + b) % SECP256k1.order\n",
    "\n",
    "# 計算 C = (m + b)G\n",
    "C = c * G\n",
    "\n",
    "def point_to_tuple(point: Point):\n",
    "    return (hex(point.x()), hex(point.y()))\n",
    "\n",
    "# 輸出 M、B 和 C 點的座標，這些將傳遞到 Solidity 進行驗證\n",
    "print(\"公開比對用值 (M):\", point_to_tuple(M))\n",
    "print(\"Bob 的公開點 (B):\", point_to_tuple(B))\n",
    "print(\"混合結果點 (C):\", point_to_tuple(C))\n"
   ]
  },
  {
   "cell_type": "code",
   "execution_count": 17,
   "id": "f07844c0-3945-46e2-811a-4c8ca9135213",
   "metadata": {},
   "outputs": [
    {
     "name": "stdout",
     "output_type": "stream",
     "text": [
      "原始 m: 123456789\n",
      "原始 b: 987654321\n",
      "加密后的椭圆曲线点 c: (103213092766970105549724903803005786552161881386844729536135103219576752988032, 106554927841606769585597959475808245486908341069295995421064383444758127827491)\n",
      "解密后的椭圆曲线点 m: (4051293998585674784991639592782214972820158391371785981004352359465450369227, 88166831356626186178414913298033275054086243781277878360288998796587140930350)\n",
      "解密成功，m 的点与预期相符！\n"
     ]
    }
   ],
   "source": [
    "from ecdsa import SigningKey, SECP256k1\n",
    "from ecdsa.ellipticcurve import Point\n",
    "\n",
    "# 生成 SECP256k1 椭圆曲线的基点 G\n",
    "curve = SECP256k1.curve\n",
    "G = SECP256k1.generator\n",
    "\n",
    "# 定义加密函数: c = m * G + b * G\n",
    "def ecc_encrypt(m, b):\n",
    "    # m 和 b 是整数，表示为椭圆曲线上的点\n",
    "    m_point = m * G  # m 对应的椭圆曲线点\n",
    "    b_point = b * G  # b 对应的椭圆曲线点\n",
    "    \n",
    "    # 加密: c = m_point + b_point\n",
    "    c_point = m_point + b_point\n",
    "    \n",
    "    return c_point\n",
    "\n",
    "# 定义解密函数: m = c - b * G (通过加上负的b * G实现减法)\n",
    "def ecc_decrypt(c_point, b):\n",
    "    # 计算 -b * G\n",
    "    neg_b_point = -b * G\n",
    "    # 恢复 m 的椭圆曲线点: m_point = c_point + (-b_point)\n",
    "    m_point = c_point + neg_b_point\n",
    "    \n",
    "    return m_point\n",
    "    \n",
    "# 测试代码\n",
    "if __name__ == \"__main__\":\n",
    "    # 原始数据 m 和 b\n",
    "    m = 123456789  # m 是一个整数，模拟为标量\n",
    "    b = 987654321  # b 是一个整数，模拟为标量\n",
    "\n",
    "    print(f\"原始 m: {m}\")\n",
    "    print(f\"原始 b: {b}\")\n",
    "\n",
    "    # 加密过程\n",
    "    c_point = ecc_encrypt(m, b)\n",
    "    print(f\"加密后的椭圆曲线点 c: ({c_point.x()}, {c_point.y()})\")\n",
    "\n",
    "    # 解密过程\n",
    "    decrypted_m_point = ecc_decrypt(c_point, b)\n",
    "    print(f\"解密后的椭圆曲线点 m: ({decrypted_m_point.x()}, {decrypted_m_point.y()})\")\n",
    "\n",
    "    # 验证解密结果是否正确\n",
    "    # m_point 应该等于 m * G\n",
    "    expected_m_point = m * G\n",
    "    assert decrypted_m_point == expected_m_point, \"解密失败\"\n",
    "    print(\"解密成功，m 的点与预期相符！\")\n"
   ]
  },
  {
   "cell_type": "code",
   "execution_count": 20,
   "id": "62e3d735-e086-4baa-80a4-e8e5813d8234",
   "metadata": {},
   "outputs": [
    {
     "data": {
      "text/plain": [
       "<ecdsa.ellipticcurve.PointJacobi at 0x1f168c94410>"
      ]
     },
     "execution_count": 20,
     "metadata": {},
     "output_type": "execute_result"
    }
   ],
   "source": [
    "expected_m_point"
   ]
  },
  {
   "cell_type": "code",
   "execution_count": 21,
   "id": "3bd268bf-dab2-4660-a7a7-103baabf2a25",
   "metadata": {},
   "outputs": [
    {
     "data": {
      "text/plain": [
       "<ecdsa.ellipticcurve.PointJacobi at 0x1f168c960d0>"
      ]
     },
     "execution_count": 21,
     "metadata": {},
     "output_type": "execute_result"
    }
   ],
   "source": [
    "decrypted_m_point"
   ]
  },
  {
   "cell_type": "code",
   "execution_count": 3,
   "id": "5a01631f-6a55-497f-a7ae-c63956c381da",
   "metadata": {},
   "outputs": [],
   "source": [
    "def l(number):\n",
    "    bit_length = number.bit_length()\n",
    "    print(f\"The number has {bit_length} bits.\")\n",
    "#l(int(M[0]))"
   ]
  },
  {
   "cell_type": "code",
   "execution_count": 5,
   "id": "c7e4f740-38f1-4095-9197-2614deae004a",
   "metadata": {},
   "outputs": [
    {
     "name": "stdout",
     "output_type": "stream",
     "text": [
      "The number has 254 bits.\n"
     ]
    }
   ],
   "source": [
    "BN256_ORDER = 21888242871839275222246405745257275088548364400416034343698204186575808495617\n",
    "l(BN256_ORDER)"
   ]
  },
  {
   "cell_type": "code",
   "execution_count": null,
   "id": "a14cf031-2800-41f1-9cc2-2009f59463e1",
   "metadata": {},
   "outputs": [],
   "source": []
  }
 ],
 "metadata": {
  "kernelspec": {
   "display_name": "Python 3 (ipykernel)",
   "language": "python",
   "name": "python3"
  },
  "language_info": {
   "codemirror_mode": {
    "name": "ipython",
    "version": 3
   },
   "file_extension": ".py",
   "mimetype": "text/x-python",
   "name": "python",
   "nbconvert_exporter": "python",
   "pygments_lexer": "ipython3",
   "version": "3.11.7"
  }
 },
 "nbformat": 4,
 "nbformat_minor": 5
}
