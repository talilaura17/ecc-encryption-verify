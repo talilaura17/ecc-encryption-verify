{
 "cells": [
  {
   "cell_type": "code",
   "execution_count": 1,
   "id": "5e91c0d3-a2fa-4395-9fa6-3185dbe199ba",
   "metadata": {},
   "outputs": [
    {
     "name": "stdout",
     "output_type": "stream",
     "text": [
      "Requirement already satisfied: web3 in c:\\users\\kiki6\\anaconda3\\lib\\site-packages (6.19.0)Note: you may need to restart the kernel to use updated packages.\n",
      "\n",
      "Requirement already satisfied: aiohttp>=3.7.4.post0 in c:\\users\\kiki6\\anaconda3\\lib\\site-packages (from web3) (3.9.3)\n",
      "Requirement already satisfied: eth-abi>=4.0.0 in c:\\users\\kiki6\\anaconda3\\lib\\site-packages (from web3) (5.1.0)\n",
      "Requirement already satisfied: eth-account<0.13,>=0.8.0 in c:\\users\\kiki6\\anaconda3\\lib\\site-packages (from web3) (0.11.2)\n",
      "Requirement already satisfied: eth-hash>=0.5.1 in c:\\users\\kiki6\\anaconda3\\lib\\site-packages (from eth-hash[pycryptodome]>=0.5.1->web3) (0.7.0)\n",
      "Requirement already satisfied: eth-typing!=4.2.0,>=3.0.0 in c:\\users\\kiki6\\anaconda3\\lib\\site-packages (from web3) (4.2.3)\n",
      "Requirement already satisfied: eth-utils>=2.1.0 in c:\\users\\kiki6\\anaconda3\\lib\\site-packages (from web3) (4.1.1)\n",
      "Requirement already satisfied: hexbytes<0.4.0,>=0.1.0 in c:\\users\\kiki6\\anaconda3\\lib\\site-packages (from web3) (0.3.1)\n",
      "Requirement already satisfied: jsonschema>=4.0.0 in c:\\users\\kiki6\\anaconda3\\lib\\site-packages (from web3) (4.19.2)\n",
      "Requirement already satisfied: lru-dict<1.3.0,>=1.1.6 in c:\\users\\kiki6\\anaconda3\\lib\\site-packages (from web3) (1.2.0)\n",
      "Requirement already satisfied: protobuf>=4.21.6 in c:\\users\\kiki6\\anaconda3\\lib\\site-packages (from web3) (5.27.0)\n",
      "Requirement already satisfied: requests>=2.16.0 in c:\\users\\kiki6\\anaconda3\\lib\\site-packages (from web3) (2.31.0)\n",
      "Requirement already satisfied: typing-extensions>=4.0.1 in c:\\users\\kiki6\\anaconda3\\lib\\site-packages (from web3) (4.9.0)\n",
      "Requirement already satisfied: websockets>=10.0.0 in c:\\users\\kiki6\\anaconda3\\lib\\site-packages (from web3) (12.0)\n",
      "Requirement already satisfied: pyunormalize>=15.0.0 in c:\\users\\kiki6\\anaconda3\\lib\\site-packages (from web3) (15.1.0)\n",
      "Requirement already satisfied: pywin32>=223 in c:\\users\\kiki6\\anaconda3\\lib\\site-packages (from web3) (305.1)\n",
      "Requirement already satisfied: aiosignal>=1.1.2 in c:\\users\\kiki6\\anaconda3\\lib\\site-packages (from aiohttp>=3.7.4.post0->web3) (1.2.0)\n",
      "Requirement already satisfied: attrs>=17.3.0 in c:\\users\\kiki6\\anaconda3\\lib\\site-packages (from aiohttp>=3.7.4.post0->web3) (23.1.0)\n",
      "Requirement already satisfied: frozenlist>=1.1.1 in c:\\users\\kiki6\\anaconda3\\lib\\site-packages (from aiohttp>=3.7.4.post0->web3) (1.4.0)\n",
      "Requirement already satisfied: multidict<7.0,>=4.5 in c:\\users\\kiki6\\anaconda3\\lib\\site-packages (from aiohttp>=3.7.4.post0->web3) (6.0.4)\n",
      "Requirement already satisfied: yarl<2.0,>=1.0 in c:\\users\\kiki6\\anaconda3\\lib\\site-packages (from aiohttp>=3.7.4.post0->web3) (1.9.3)\n",
      "Requirement already satisfied: parsimonious<0.11.0,>=0.10.0 in c:\\users\\kiki6\\anaconda3\\lib\\site-packages (from eth-abi>=4.0.0->web3) (0.10.0)\n",
      "Requirement already satisfied: bitarray>=2.4.0 in c:\\users\\kiki6\\anaconda3\\lib\\site-packages (from eth-account<0.13,>=0.8.0->web3) (2.9.2)\n",
      "Requirement already satisfied: eth-keyfile>=0.6.0 in c:\\users\\kiki6\\anaconda3\\lib\\site-packages (from eth-account<0.13,>=0.8.0->web3) (0.8.1)\n",
      "Requirement already satisfied: eth-keys>=0.4.0 in c:\\users\\kiki6\\anaconda3\\lib\\site-packages (from eth-account<0.13,>=0.8.0->web3) (0.5.1)\n",
      "Requirement already satisfied: eth-rlp>=0.3.0 in c:\\users\\kiki6\\anaconda3\\lib\\site-packages (from eth-account<0.13,>=0.8.0->web3) (1.0.1)\n",
      "Requirement already satisfied: rlp>=1.0.0 in c:\\users\\kiki6\\anaconda3\\lib\\site-packages (from eth-account<0.13,>=0.8.0->web3) (4.0.1)\n",
      "Requirement already satisfied: ckzg>=0.4.3 in c:\\users\\kiki6\\anaconda3\\lib\\site-packages (from eth-account<0.13,>=0.8.0->web3) (1.0.2)\n",
      "Requirement already satisfied: pycryptodome<4,>=3.6.6 in c:\\users\\kiki6\\anaconda3\\lib\\site-packages (from eth-hash[pycryptodome]>=0.5.1->web3) (3.20.0)\n",
      "Requirement already satisfied: cytoolz>=0.10.1 in c:\\users\\kiki6\\anaconda3\\lib\\site-packages (from eth-utils>=2.1.0->web3) (0.12.2)\n",
      "Requirement already satisfied: jsonschema-specifications>=2023.03.6 in c:\\users\\kiki6\\anaconda3\\lib\\site-packages (from jsonschema>=4.0.0->web3) (2023.7.1)\n",
      "Requirement already satisfied: referencing>=0.28.4 in c:\\users\\kiki6\\anaconda3\\lib\\site-packages (from jsonschema>=4.0.0->web3) (0.30.2)\n",
      "Requirement already satisfied: rpds-py>=0.7.1 in c:\\users\\kiki6\\anaconda3\\lib\\site-packages (from jsonschema>=4.0.0->web3) (0.10.6)\n",
      "Requirement already satisfied: charset-normalizer<4,>=2 in c:\\users\\kiki6\\anaconda3\\lib\\site-packages (from requests>=2.16.0->web3) (2.0.4)\n",
      "Requirement already satisfied: idna<4,>=2.5 in c:\\users\\kiki6\\anaconda3\\lib\\site-packages (from requests>=2.16.0->web3) (3.4)\n",
      "Requirement already satisfied: urllib3<3,>=1.21.1 in c:\\users\\kiki6\\anaconda3\\lib\\site-packages (from requests>=2.16.0->web3) (2.0.7)\n",
      "Requirement already satisfied: certifi>=2017.4.17 in c:\\users\\kiki6\\anaconda3\\lib\\site-packages (from requests>=2.16.0->web3) (2024.2.2)\n",
      "Requirement already satisfied: toolz>=0.8.0 in c:\\users\\kiki6\\anaconda3\\lib\\site-packages (from cytoolz>=0.10.1->eth-utils>=2.1.0->web3) (0.12.0)\n",
      "Requirement already satisfied: regex>=2022.3.15 in c:\\users\\kiki6\\anaconda3\\lib\\site-packages (from parsimonious<0.11.0,>=0.10.0->eth-abi>=4.0.0->web3) (2023.10.3)\n"
     ]
    }
   ],
   "source": [
    "pip install web3"
   ]
  },
  {
   "cell_type": "code",
   "execution_count": 64,
   "id": "cda5a117-87d2-4278-bc10-d860d1c19b50",
   "metadata": {},
   "outputs": [
    {
     "name": "stdout",
     "output_type": "stream",
     "text": [
      "連接成功\n",
      "0xD2ba6B552Aa333b15b69DB2CB173C8c50415e0cd\n",
      "0x2Dd7bF317cbeb7Fe7C6d837C68AbA01B0EE60D21\n"
     ]
    }
   ],
   "source": [
    "from web3 import Web3\n",
    "import json\n",
    "\n",
    "# 連接到本地節點或 Infura\n",
    "w3 = Web3(Web3.HTTPProvider('http://127.0.0.1:8545'))  # 如果是 Infura，換成 Infura 的鏈接\n",
    "\n",
    "# 檢查是否連接成功\n",
    "if w3.is_connected():\n",
    "    print(\"連接成功\")\n",
    "else:\n",
    "    print(\"連接失敗\")\n",
    "\n",
    "# 加載 ABI 和 Bytecode\n",
    "with open(\"abi1.abi\") as f:\n",
    "    contract_abi = json.load(f)\n",
    "\n",
    "# 合約地址\n",
    "contract_address = '0x6210790aB81a747713798c4B6be16b611d7DF629'\n",
    "\n",
    "# 加載合約\n",
    "contract = w3.eth.contract(address=contract_address, abi=contract_abi)\n",
    "\n",
    "# 設定交易參數\n",
    "sender = w3.eth.accounts[0]  # 使用你的帳戶\n",
    "receiver = w3.eth.accounts[1]\n",
    "\n",
    "print(sender)\n",
    "print(receiver)\n"
   ]
  },
  {
   "cell_type": "code",
   "execution_count": 82,
   "id": "3f09acf3-792b-44ab-a8fa-a3d2b910dfbe",
   "metadata": {},
   "outputs": [],
   "source": [
    "price = 1\n",
    "EnA_b = b's~\\n\\x178\"\\x996\\xbb\\xb3\\x06\\x1c3/\\xd4=\\xedO\\xdf\\xf4\\x01\\xcdLd\\xdb\\x93\\x93\\xcb\\x89@\\x08L'\n",
    "B = (5378922130471260529185872467495839666835425194740989935753900070491847019445, 5273430464091934285569218017182043859047827619487480750699855161722102225912)\n",
    "commitment = [5447109968213176062286855625893016543261004463439169242128025057710130810166, 5447109968213176062286855625893016543206849677472654571817213524835386810708]\n",
    "K = [[18479165454232861116319427502477770473672567350588763535693451224415387532385, 6404929343959435307309967611570020832608603063766868664163498276419700687739],[867737788080039067470717243321464069161115999208033877480298464187572825888, 8054430195105493732222839913139293945739730365195718698070643473826465280299]]"
   ]
  },
  {
   "cell_type": "code",
   "execution_count": 86,
   "id": "1063d43e-2e58-4f18-920e-f69719956c68",
   "metadata": {},
   "outputs": [
    {
     "name": "stdout",
     "output_type": "stream",
     "text": [
      "initialized 成功\n",
      "Gas used: 38178\n"
     ]
    }
   ],
   "source": [
    "# Step 1 ininitialize\n",
    "\n",
    "# 獲取交易的nonce值\n",
    "nonce = w3.eth.get_transaction_count(sender)\n",
    "\n",
    "# 構建交易參數\n",
    "transaction_params = {\n",
    "    'gas': 500000,\n",
    "    'gasPrice': w3.to_wei('10', 'gwei'),\n",
    "    'nonce': nonce,\n",
    "    'from': sender\n",
    "}\n",
    "\n",
    "# 構建交易數據\n",
    "transaction_hash = contract.functions.ininitialize(receiver, price).transact(transaction_params)\n",
    "\n",
    "# 等待交易被打包和確認\n",
    "transaction_receipt = w3.eth.wait_for_transaction_receipt(transaction_hash)\n",
    "\n",
    "# 檢查交易是否成功\n",
    "if transaction_receipt['status'] == 1:\n",
    "    print(\"initialized 成功\")\n",
    "else:\n",
    "    print(\"失敗\")\n",
    "\n",
    "# 獲取gas消耗\n",
    "gas_used = transaction_receipt['gasUsed']\n",
    "print(f\"Gas used: {gas_used}\")"
   ]
  },
  {
   "cell_type": "code",
   "execution_count": 87,
   "id": "a65e6985-884d-4cbe-97af-1f996db79c3f",
   "metadata": {},
   "outputs": [
    {
     "name": "stdout",
     "output_type": "stream",
     "text": [
      "accepted 成功\n",
      "Gas used: 54820\n"
     ]
    }
   ],
   "source": [
    "# Step 2 接受交易\n",
    "\n",
    "# 獲取交易的nonce值\n",
    "nonce = w3.eth.get_transaction_count(receiver)\n",
    "\n",
    "# 構建交易參數\n",
    "transaction_params = {\n",
    "    'gas': 500000,\n",
    "    'gasPrice': w3.to_wei('10', 'gwei'),\n",
    "    'nonce': nonce,\n",
    "    'from': receiver,\n",
    "    'value': w3.to_wei('1', 'ether')\n",
    "}\n",
    "\n",
    "# 構建交易數據\n",
    "transaction_hash = contract.functions.accept(EnA_b, B, commitment).transact(transaction_params)\n",
    "\n",
    "# 等待交易被打包和確認\n",
    "transaction_receipt = w3.eth.wait_for_transaction_receipt(transaction_hash)\n",
    "\n",
    "# 檢查交易是否成功\n",
    "if transaction_receipt['status'] == 1:\n",
    "    print(\"accepted 成功\")\n",
    "else:\n",
    "    print(\"失敗\")\n",
    "\n",
    "# 獲取gas消耗\n",
    "gas_used = transaction_receipt['gasUsed']\n",
    "print(f\"Gas used: {gas_used}\")"
   ]
  },
  {
   "cell_type": "code",
   "execution_count": 85,
   "id": "77c5a460-85e9-4019-925e-81e8f427bb1e",
   "metadata": {},
   "outputs": [
    {
     "name": "stdout",
     "output_type": "stream",
     "text": [
      "keyRevealed 成功\n",
      "Gas used: 76462\n"
     ]
    }
   ],
   "source": [
    "# Step 3 揭示密鑰\n",
    "\n",
    "# 獲取交易的nonce值\n",
    "nonce = w3.eth.get_transaction_count(sender)\n",
    "\n",
    "# 構建交易參數\n",
    "transaction_params = {\n",
    "    'gas': 500000,\n",
    "    'gasPrice': w3.to_wei('10', 'gwei'),\n",
    "    'nonce': nonce,\n",
    "    'from': sender\n",
    "}\n",
    "\n",
    "# 構建交易數據\n",
    "transaction_hash = contract.functions.revealKey(K).transact(transaction_params)\n",
    "\n",
    "# 等待交易被打包和確認\n",
    "transaction_receipt = w3.eth.wait_for_transaction_receipt(transaction_hash)\n",
    "\n",
    "# 檢查交易是否成功\n",
    "if transaction_receipt['status'] == 1:\n",
    "    print(\"keyRevealed 成功\")\n",
    "else:\n",
    "    print(\"失敗\")\n",
    "\n",
    "# 獲取gas消耗\n",
    "gas_used = transaction_receipt['gasUsed']\n",
    "print(f\"Gas used: {gas_used}\")"
   ]
  },
  {
   "cell_type": "code",
   "execution_count": 96,
   "id": "ad217f3f-b159-41c2-adac-3b05a4e34710",
   "metadata": {},
   "outputs": [
    {
     "name": "stdout",
     "output_type": "stream",
     "text": [
      "1000000000000000000\n"
     ]
    }
   ],
   "source": [
    "print(w3.eth.get_balance(contract_address))"
   ]
  },
  {
   "cell_type": "code",
   "execution_count": null,
   "id": "ef3875a8-3ec3-47be-9a67-54b0055644d4",
   "metadata": {},
   "outputs": [],
   "source": [
    "# 等待 10 分鐘\n",
    "import time\n",
    "#time.sleep(600)\n",
    "\n",
    "# 調用 refund 函數\n",
    "tx_hash = contract.functions.refund().transact({'from': receiver})\n",
    "receipt = w3.eth.wait_for_transaction_receipt(tx_hash)\n",
    "print(f\"Refund transaction receipt: {receipt}\")"
   ]
  },
  {
   "cell_type": "code",
   "execution_count": null,
   "id": "3f4e8933-da85-4c6a-82e2-ed4d75752179",
   "metadata": {},
   "outputs": [],
   "source": []
  }
 ],
 "metadata": {
  "kernelspec": {
   "display_name": "Python 3 (ipykernel)",
   "language": "python",
   "name": "python3"
  },
  "language_info": {
   "codemirror_mode": {
    "name": "ipython",
    "version": 3
   },
   "file_extension": ".py",
   "mimetype": "text/x-python",
   "name": "python",
   "nbconvert_exporter": "python",
   "pygments_lexer": "ipython3",
   "version": "3.11.7"
  }
 },
 "nbformat": 4,
 "nbformat_minor": 5
}
